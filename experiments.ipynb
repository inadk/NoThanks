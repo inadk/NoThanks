class PenaltyPerCoins(Player):
    def __init__( self ):
        Player.__init__( self )
        self.setName( 'PnealtyPerCoins' )
    def take( self, card, state ):
        if self.coins <= 0:
            return True
        if card.coins >= ( self.penaltyWhenTake( card ) / 1.4 ):
            return True
        return False

NAME                   GAMES  AVERAGE
MyAI                     832   26.374
CutOff14                 827   42.428
LowerPenalty             823   45.516
TakeSmall                842   48.308
CoinsDependent           835   50.381
RandomPlayer             841   88.352